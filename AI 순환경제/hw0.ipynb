{
  "nbformat": 4,
  "nbformat_minor": 0,
  "metadata": {
    "colab": {
      "provenance": []
    },
    "kernelspec": {
      "name": "python3",
      "display_name": "Python 3"
    },
    "language_info": {
      "name": "python"
    }
  },
  "cells": [
    {
      "cell_type": "markdown",
      "source": [
        "#**Double click to edit.**\n",
        "\n",
        "You are welcome to utilize search engines such as Google or Bing, or even employ GPT programs similar to ChatGPT, as learning aids. However, in the event that you do use these resources, please remember to acknowledge their use and provide proper sources for reference. It's important to note that heavy reliance on these external sources might not be advisable, ***as the quiz will likely be conducted offline***."
      ],
      "metadata": {
        "id": "qbyp74kuNPuw"
      }
    },
    {
      "cell_type": "markdown",
      "source": [
        "\n",
        "\n",
        "#Problem 0.1: Who are you?\n",
        "\n",
        "a. What is your name?\n",
        "\n",
        "```\n",
        "My name is Juhyeon Jin.\n",
        "```\n",
        "b. What do you hope to do after garduation (be specific)?\n",
        "\n",
        "```\n",
        "I want to be a researcher at the . But it's uncertain...\n",
        "```\n",
        "c. List 3 interesting things about yourself.\n",
        "```\n",
        "1. My major was soil science until master course, but now my major is Climate Analysis and Modeling.\n",
        "2. I like game such as Nintendo game, computer game, mobile game.\n",
        "3. I love my younger sister, she is so cute.\n",
        "```\n",
        "\n",
        "d. Who is your advisor?\n",
        "```\n",
        "My advisor is Jin-Ho Yoon.\n",
        "```\n",
        "---"
      ],
      "metadata": {
        "id": "eEiUh2OeC8G2"
      }
    },
    {
      "cell_type": "markdown",
      "source": [
        "#Problem 0.2: About the course\n",
        "\n",
        "a. What are you most excited to learn in this course?\n",
        "```\n",
        "I most excited about learning mashine and statistics.\n",
        "```\n",
        "b. What pre-req topics (e.g., math, coding, probability, statistics) are your weakest?\n",
        "```\n",
        "It's math and statistics.\n",
        "```\n",
        "c. Waht pre-req topics are you strongest?\n",
        "```\n",
        "Maybe coding?\n",
        "```\n",
        "d. Would you rather see the mathematical detials or coding details of a method/algorithm?\n",
        "```\n",
        "I want to see the coding details.\n",
        "```"
      ],
      "metadata": {
        "id": "Ce50gThAKkbm"
      }
    },
    {
      "cell_type": "markdown",
      "source": [
        "#Problem 0.3: Math Notation\n",
        "\n",
        "a. What are the equation for the least squares coefficients in linear regression (in matrix notation)? Use $X$ for the design/predictor matrix, and $Y$ the vector of resonses.\n",
        "\n",
        "\n",
        "hint1: https://colab.research.google.com/notebooks/markdown_guide.ipynb#scrollTo=Lhfnlq1Surtk\n",
        "\n",
        "hint2: https://global.oup.com/booksites/content/0199268010/samplesec3\n",
        "\n",
        "hint3: Google it..\n",
        "\n",
        "$$\\hat{\\beta} = (X^{\\top}*X)^{-1} * X^{\\top} * Y$$\n",
        "\n",
        "<br>\n",
        "\n",
        "b. Consider a dataset consisting of drought duration (days) in Gwangju province, represented as $x_1$, $x_2$, ..., $x_n$. We feel comfortable modeling the data as coming from an exponential distribution. What is the MLE (Maximum Likelihood Estimate) of the parameter? Show your steps using Markdown.\n",
        "\n",
        "hint1: https://math.stackexchange.com/questions/101481/calculating-maximum-likelihood-estimation-of-the-exponential-distribution-and-pr\n",
        "\n",
        "Assume $X_i \\stackrel{iid}{\\sim} \\mathrm{Exp}(\\lambda)$ with pdf $f(x; \\lambda) = \\lambda e^{-\\lambda x}$, $x\\ge 0$\n",
        "\n",
        "<br>\n",
        "\n",
        "**Likelihood function**\n",
        "$$ L(\\lambda) = \\prod_{i=1}^n \\lambda e^{-\\lambda x_i}= \\lambda^n\\ \\mathrm{Exp} \\left(-\\lambda \\sum_{i=1}^n x_i\\right)$$\n",
        "\n",
        "<br>\n",
        "\n",
        "**Log- likelihood**\n",
        "$$ \\ell(\\lambda) = n\\log\\lambda - \\lambda \\sum_{i=1}^n x_i$$\n",
        "\n",
        "<br>\n",
        "\n",
        "**Differentiate and solve**\n",
        "$$\\frac{d\\ell}{d\\lambda} = \\frac{n}{\\lambda} - \\sum_{i=1}^n x_i = 0\\;\\Rightarrow\\; \\hat{\\lambda} = \\frac{n}{\\sum_{i=1}^n x=i} = \\frac{1}{\\bar x}$$"
      ],
      "metadata": {
        "id": "JIor8yT-Kew2"
      }
    },
    {
      "cell_type": "markdown",
      "source": [
        "---\n",
        "#Problem 0.4: Coding\n",
        "\n",
        "a. Simulate 100 observations from the following model:\n",
        "- $X \\sim N(1, 1)$\n",
        "- $Y \\sim N(1 + 2X, 2)$\n",
        "- $Z = \\begin{cases} 1 &\\quad Y<0 \\\\ 2 &\\quad Y \\ge 0 \\end{cases}$"
      ],
      "metadata": {
        "id": "fPbG7wA1KBbH"
      }
    },
    {
      "cell_type": "code",
      "source": [
        "#write your code here\n",
        "#hint1: https://www.tutorialspoint.com/generating-random-number-list-in-python"
      ],
      "metadata": {
        "id": "wYrq4TQAH2ZU"
      },
      "execution_count": null,
      "outputs": []
    },
    {
      "cell_type": "markdown",
      "source": [
        "b. Make a scatter plot of the data. Put $X$ on the x-axis and $Y$ on the y-axis. Color the points according to $Z$."
      ],
      "metadata": {
        "id": "hNeVdknFLYu6"
      }
    },
    {
      "cell_type": "code",
      "source": [
        "#write your code here\n",
        "#hint1: https://stackoverflow.com/questions/68576758/how-to-change-scatter-xy-plot-color-dependent-from-string-z-value"
      ],
      "metadata": {
        "id": "-eM9bhfhLhdV"
      },
      "execution_count": null,
      "outputs": []
    }
  ]
}
